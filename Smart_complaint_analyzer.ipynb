{
  "cells": [
    {
      "cell_type": "markdown",
      "metadata": {
        "id": "view-in-github",
        "colab_type": "text"
      },
      "source": [
        "<a href=\"https://colab.research.google.com/github/Kavi-Dew-23/4338-Dewapura/blob/main/Smart_complaint_analyzer.ipynb\" target=\"_parent\"><img src=\"https://colab.research.google.com/assets/colab-badge.svg\" alt=\"Open In Colab\"/></a>"
      ]
    },
    {
      "cell_type": "code",
      "execution_count": 1,
      "id": "d528e37b",
      "metadata": {
        "id": "d528e37b"
      },
      "outputs": [],
      "source": [
        "import pandas as pd\n",
        "import numpy as np\n",
        "import re\n",
        "import nltk\n",
        "from nltk.corpus import stopwords\n",
        "from nltk.stem import WordNetLemmatizer\n",
        "from sklearn.preprocessing import LabelEncoder"
      ]
    },
    {
      "cell_type": "code",
      "execution_count": 3,
      "id": "e4a49ffb",
      "metadata": {
        "colab": {
          "base_uri": "https://localhost:8080/"
        },
        "id": "e4a49ffb",
        "outputId": "3336a3d6-18be-4f21-8959-e86e43054444"
      },
      "outputs": [
        {
          "output_type": "stream",
          "name": "stdout",
          "text": [
            "   Unnamed: 0      id  Gender      Customer Type  Age   Type of Travel  \\\n",
            "0           0   70172    Male     Loyal Customer   13  Personal Travel   \n",
            "1           1    5047    Male  disloyal Customer   25  Business travel   \n",
            "2           2  110028  Female     Loyal Customer   26  Business travel   \n",
            "3           3   24026  Female     Loyal Customer   25  Business travel   \n",
            "4           4  119299    Male     Loyal Customer   61  Business travel   \n",
            "\n",
            "      Class  Flight Distance  Inflight wifi service  \\\n",
            "0  Eco Plus              460                      3   \n",
            "1  Business              235                      3   \n",
            "2  Business             1142                      2   \n",
            "3  Business              562                      2   \n",
            "4  Business              214                      3   \n",
            "\n",
            "   Departure/Arrival time convenient  ...  Inflight entertainment  \\\n",
            "0                                  4  ...                       5   \n",
            "1                                  2  ...                       1   \n",
            "2                                  2  ...                       5   \n",
            "3                                  5  ...                       2   \n",
            "4                                  3  ...                       3   \n",
            "\n",
            "   On-board service  Leg room service  Baggage handling  Checkin service  \\\n",
            "0                 4                 3                 4                4   \n",
            "1                 1                 5                 3                1   \n",
            "2                 4                 3                 4                4   \n",
            "3                 2                 5                 3                1   \n",
            "4                 3                 4                 4                3   \n",
            "\n",
            "   Inflight service  Cleanliness  Departure Delay in Minutes  \\\n",
            "0                 5            5                          25   \n",
            "1                 4            1                           1   \n",
            "2                 4            5                           0   \n",
            "3                 4            2                          11   \n",
            "4                 3            3                           0   \n",
            "\n",
            "   Arrival Delay in Minutes             satisfaction  \n",
            "0                      18.0  neutral or dissatisfied  \n",
            "1                       6.0  neutral or dissatisfied  \n",
            "2                       0.0                satisfied  \n",
            "3                       9.0  neutral or dissatisfied  \n",
            "4                       0.0                satisfied  \n",
            "\n",
            "[5 rows x 25 columns]\n"
          ]
        }
      ],
      "source": [
        "df_train = pd.read_csv(\"/content/train.csv\")\n",
        "df_test = pd.read_csv(\"/content/test.csv\")\n",
        "\n",
        "print(df_train.head())\n"
      ]
    },
    {
      "cell_type": "code",
      "execution_count": 4,
      "id": "ada2cbc5",
      "metadata": {
        "id": "ada2cbc5"
      },
      "outputs": [],
      "source": [
        "df_train.drop(columns=[\"Unnamed: 0\", \"id\"], inplace=True)"
      ]
    },
    {
      "cell_type": "code",
      "execution_count": 5,
      "id": "72fbf6c2",
      "metadata": {
        "id": "72fbf6c2",
        "outputId": "c6917946-faf2-4dc2-b278-928ebd719dcd",
        "colab": {
          "base_uri": "https://localhost:8080/"
        }
      },
      "outputs": [
        {
          "output_type": "stream",
          "name": "stdout",
          "text": [
            "Gender                                 0\n",
            "Customer Type                          0\n",
            "Age                                    0\n",
            "Type of Travel                         0\n",
            "Class                                  0\n",
            "Flight Distance                        0\n",
            "Inflight wifi service                  0\n",
            "Departure/Arrival time convenient      0\n",
            "Ease of Online booking                 0\n",
            "Gate location                          0\n",
            "Food and drink                         0\n",
            "Online boarding                        0\n",
            "Seat comfort                           0\n",
            "Inflight entertainment                 0\n",
            "On-board service                       0\n",
            "Leg room service                       0\n",
            "Baggage handling                       0\n",
            "Checkin service                        0\n",
            "Inflight service                       0\n",
            "Cleanliness                            0\n",
            "Departure Delay in Minutes             0\n",
            "Arrival Delay in Minutes             310\n",
            "satisfaction                           0\n",
            "dtype: int64\n"
          ]
        }
      ],
      "source": [
        "# Check for null values\n",
        "print(df_train.isnull().sum())"
      ]
    },
    {
      "cell_type": "code",
      "execution_count": 6,
      "id": "b4d334e9",
      "metadata": {
        "id": "b4d334e9"
      },
      "outputs": [],
      "source": [
        "#drop missing values\n",
        "df_train.dropna(inplace=True)\n"
      ]
    },
    {
      "cell_type": "code",
      "execution_count": 7,
      "id": "44cba5e8",
      "metadata": {
        "id": "44cba5e8",
        "outputId": "196a10fe-f525-4040-a8ff-f4f2cc885cb3",
        "colab": {
          "base_uri": "https://localhost:8080/"
        }
      },
      "outputs": [
        {
          "output_type": "stream",
          "name": "stdout",
          "text": [
            "   Gender      Customer Type  Age   Type of Travel     Class  Flight Distance  \\\n",
            "0    Male     Loyal Customer   13  Personal Travel  Eco Plus              460   \n",
            "1    Male  disloyal Customer   25  Business travel  Business              235   \n",
            "2  Female     Loyal Customer   26  Business travel  Business             1142   \n",
            "3  Female     Loyal Customer   25  Business travel  Business              562   \n",
            "4    Male     Loyal Customer   61  Business travel  Business              214   \n",
            "\n",
            "   Inflight wifi service  Departure/Arrival time convenient  \\\n",
            "0                      3                                  4   \n",
            "1                      3                                  2   \n",
            "2                      2                                  2   \n",
            "3                      2                                  5   \n",
            "4                      3                                  3   \n",
            "\n",
            "   Ease of Online booking  Gate location  ...  Inflight entertainment  \\\n",
            "0                       3              1  ...                       5   \n",
            "1                       3              3  ...                       1   \n",
            "2                       2              2  ...                       5   \n",
            "3                       5              5  ...                       2   \n",
            "4                       3              3  ...                       3   \n",
            "\n",
            "   On-board service  Leg room service  Baggage handling  Checkin service  \\\n",
            "0                 4                 3                 4                4   \n",
            "1                 1                 5                 3                1   \n",
            "2                 4                 3                 4                4   \n",
            "3                 2                 5                 3                1   \n",
            "4                 3                 4                 4                3   \n",
            "\n",
            "   Inflight service  Cleanliness  Departure Delay in Minutes  \\\n",
            "0                 5            5                          25   \n",
            "1                 4            1                           1   \n",
            "2                 4            5                           0   \n",
            "3                 4            2                          11   \n",
            "4                 3            3                           0   \n",
            "\n",
            "   Arrival Delay in Minutes             satisfaction  \n",
            "0                      18.0  neutral or dissatisfied  \n",
            "1                       6.0  neutral or dissatisfied  \n",
            "2                       0.0                satisfied  \n",
            "3                       9.0  neutral or dissatisfied  \n",
            "4                       0.0                satisfied  \n",
            "\n",
            "[5 rows x 23 columns]\n"
          ]
        }
      ],
      "source": [
        "print(df_train.head())"
      ]
    },
    {
      "cell_type": "markdown",
      "id": "71ee88ae",
      "metadata": {
        "id": "71ee88ae"
      },
      "source": [
        "Encode the categorical variables"
      ]
    },
    {
      "cell_type": "code",
      "execution_count": 8,
      "id": "ea0ef56e",
      "metadata": {
        "id": "ea0ef56e",
        "outputId": "a5bb97e6-4228-41bd-b616-286c523417c6",
        "colab": {
          "base_uri": "https://localhost:8080/"
        }
      },
      "outputs": [
        {
          "output_type": "stream",
          "name": "stdout",
          "text": [
            "   Gender  Customer Type  Age  Type of Travel  Class  Flight Distance  \\\n",
            "0       1              0   13               1      2              460   \n",
            "1       1              1   25               0      0              235   \n",
            "2       0              0   26               0      0             1142   \n",
            "3       0              0   25               0      0              562   \n",
            "4       1              0   61               0      0              214   \n",
            "\n",
            "   Inflight wifi service  Departure/Arrival time convenient  \\\n",
            "0                      3                                  4   \n",
            "1                      3                                  2   \n",
            "2                      2                                  2   \n",
            "3                      2                                  5   \n",
            "4                      3                                  3   \n",
            "\n",
            "   Ease of Online booking  Gate location  ...  Inflight entertainment  \\\n",
            "0                       3              1  ...                       5   \n",
            "1                       3              3  ...                       1   \n",
            "2                       2              2  ...                       5   \n",
            "3                       5              5  ...                       2   \n",
            "4                       3              3  ...                       3   \n",
            "\n",
            "   On-board service  Leg room service  Baggage handling  Checkin service  \\\n",
            "0                 4                 3                 4                4   \n",
            "1                 1                 5                 3                1   \n",
            "2                 4                 3                 4                4   \n",
            "3                 2                 5                 3                1   \n",
            "4                 3                 4                 4                3   \n",
            "\n",
            "   Inflight service  Cleanliness  Departure Delay in Minutes  \\\n",
            "0                 5            5                          25   \n",
            "1                 4            1                           1   \n",
            "2                 4            5                           0   \n",
            "3                 4            2                          11   \n",
            "4                 3            3                           0   \n",
            "\n",
            "   Arrival Delay in Minutes  satisfaction  \n",
            "0                      18.0             0  \n",
            "1                       6.0             0  \n",
            "2                       0.0             1  \n",
            "3                       9.0             0  \n",
            "4                       0.0             1  \n",
            "\n",
            "[5 rows x 23 columns]\n"
          ]
        }
      ],
      "source": [
        "# List of columns to encode\n",
        "label_cols = ['Gender', 'Customer Type', 'Type of Travel', 'Class','satisfaction']\n",
        "\n",
        "# Encode each column\n",
        "for col in label_cols:\n",
        "    le = LabelEncoder()\n",
        "    df_train[col] = le.fit_transform(df_train[col])\n",
        "\n",
        "\n",
        "print(df_train.head(5))\n"
      ]
    },
    {
      "cell_type": "code",
      "execution_count": 9,
      "id": "95511d86",
      "metadata": {
        "id": "95511d86"
      },
      "outputs": [],
      "source": [
        "# Generate synthetic complaint text\n",
        "\n",
        "def generate_complaint(row):\n",
        "    complaint = []\n",
        "    if row['Inflight wifi service'] <= 2:\n",
        "        complaint.append(\"wifi was slow\")\n",
        "    if row['Food and drink'] <= 2:\n",
        "        complaint.append(\"food was bad\")\n",
        "    if row['Departure/Arrival time convenient'] <= 2:\n",
        "        complaint.append(\"departure and arrival time slow\")\n",
        "    if row['Ease of Online booking'] <= 2:\n",
        "        complaint.append(\"online booking was difficult\")\n",
        "    if row['Seat comfort'] <= 2:\n",
        "        complaint.append(\"seat was uncomfortable\")\n",
        "    if row['Gate location'] <= 2:\n",
        "        complaint.append(\"gate location was bad\")\n",
        "    if row['Inflight entertainment'] <= 2:\n",
        "        complaint.append(\"inflight entertaintment was bad\")\n",
        "    if row['On-board service'] <= 2:\n",
        "        complaint.append(\"onboard service was poor\")\n",
        "    if row[\"Leg room service\"] <= 2:\n",
        "        complaint.append(\"leg room service was poor\")\n",
        "    if row['Baggage handling'] <= 2:\n",
        "        complaint.append(\"baggage handling was bad\")\n",
        "    if row['Checkin service'] <= 2:\n",
        "        complaint.append(\"checking service was poor\")\n",
        "    if row['Inflight service'] <= 2:\n",
        "        complaint.append(\"inflight service was unhelpful\")\n",
        "    if row['Cleanliness'] <= 2:\n",
        "        complaint.append(\"plane was not clean\")\n",
        "    return \" and \".join(complaint) if complaint else \"no complaint\"\n",
        "\n",
        "df_train['Complaint_Text'] = df_train.apply(generate_complaint, axis=1)\n"
      ]
    },
    {
      "cell_type": "code",
      "execution_count": 10,
      "id": "745832dd",
      "metadata": {
        "id": "745832dd",
        "outputId": "c76abd3e-47cb-42b5-889b-eddcc01bd77c",
        "colab": {
          "base_uri": "https://localhost:8080/"
        }
      },
      "outputs": [
        {
          "output_type": "stream",
          "name": "stdout",
          "text": [
            "Index(['Gender', 'Customer Type', 'Age', 'Type of Travel', 'Class',\n",
            "       'Flight Distance', 'Inflight wifi service',\n",
            "       'Departure/Arrival time convenient', 'Ease of Online booking',\n",
            "       'Gate location', 'Food and drink', 'Online boarding', 'Seat comfort',\n",
            "       'Inflight entertainment', 'On-board service', 'Leg room service',\n",
            "       'Baggage handling', 'Checkin service', 'Inflight service',\n",
            "       'Cleanliness', 'Departure Delay in Minutes', 'Arrival Delay in Minutes',\n",
            "       'satisfaction', 'Complaint_Text'],\n",
            "      dtype='object')\n"
          ]
        }
      ],
      "source": [
        "print(df_train.columns)"
      ]
    },
    {
      "cell_type": "markdown",
      "id": "088efdef",
      "metadata": {
        "id": "088efdef"
      },
      "source": [
        "Text Preprocessing"
      ]
    },
    {
      "cell_type": "code",
      "execution_count": 11,
      "id": "2bef0a8a",
      "metadata": {
        "id": "2bef0a8a",
        "outputId": "90787c22-4615-4fce-99d6-0a14ee5f82e8",
        "colab": {
          "base_uri": "https://localhost:8080/"
        }
      },
      "outputs": [
        {
          "output_type": "stream",
          "name": "stderr",
          "text": [
            "[nltk_data] Downloading package stopwords to /root/nltk_data...\n",
            "[nltk_data]   Unzipping corpora/stopwords.zip.\n",
            "[nltk_data] Downloading package wordnet to /root/nltk_data...\n"
          ]
        },
        {
          "output_type": "execute_result",
          "data": {
            "text/plain": [
              "True"
            ]
          },
          "metadata": {},
          "execution_count": 11
        }
      ],
      "source": [
        "nltk.download('stopwords')\n",
        "nltk.download('wordnet')\n"
      ]
    },
    {
      "cell_type": "code",
      "execution_count": 13,
      "id": "f6fc2f85",
      "metadata": {
        "id": "f6fc2f85",
        "colab": {
          "base_uri": "https://localhost:8080/"
        },
        "outputId": "8acd70d9-91af-4ebe-cc2c-2f0fd113a1b1"
      },
      "outputs": [
        {
          "output_type": "stream",
          "name": "stdout",
          "text": [
            "0                                         gate location bad\n",
            "1         food bad departure arrival time slow seat unco...\n",
            "2         wifi slow departure arrival time slow online b...\n",
            "3         wifi slow food bad seat uncomfortable inflight...\n",
            "4                                                 complaint\n",
            "                                ...                        \n",
            "103899    wifi slow food bad departure arrival time slow...\n",
            "103900                                             food bad\n",
            "103901    wifi slow departure arrival time slow online b...\n",
            "103902    wifi slow food bad departure arrival time slow...\n",
            "103903    wifi slow food bad seat uncomfortable inflight...\n",
            "Name: Cleaned_Text, Length: 103594, dtype: object\n"
          ]
        }
      ],
      "source": [
        "def clean_text(text):\n",
        "    text = re.sub(r\"[^a-zA-Z]\", \" \", text.lower())\n",
        "    lemmatizer = WordNetLemmatizer()\n",
        "    words = text.split()\n",
        "    stop_words = set(stopwords.words('english'))\n",
        "    cleaned = [lemmatizer.lemmatize(word) for word in words if word not in stop_words]\n",
        "    return \" \".join(cleaned)\n",
        "\n",
        "df_train[\"Cleaned_Text\"] = df_train[\"Complaint_Text\"].apply(clean_text)\n",
        "print(df_train[\"Cleaned_Text\"])"
      ]
    },
    {
      "cell_type": "markdown",
      "id": "c3cce114",
      "metadata": {
        "id": "c3cce114"
      },
      "source": [
        "Word Embedding"
      ]
    },
    {
      "cell_type": "code",
      "execution_count": 14,
      "id": "3ae81179",
      "metadata": {
        "id": "3ae81179"
      },
      "outputs": [],
      "source": [
        "from sklearn.feature_extraction.text import TfidfVectorizer\n",
        "\n",
        "tfidf = TfidfVectorizer()\n",
        "X_text = tfidf.fit_transform(df_train[\"Cleaned_Text\"])"
      ]
    },
    {
      "cell_type": "markdown",
      "id": "0890b2c0",
      "metadata": {
        "id": "0890b2c0"
      },
      "source": [
        "Transformer based model"
      ]
    },
    {
      "cell_type": "code",
      "execution_count": 19,
      "id": "8e976c37",
      "metadata": {
        "id": "8e976c37"
      },
      "outputs": [],
      "source": [
        "from transformers import DistilBertTokenizer, DistilBertForSequenceClassification, Trainer, TrainingArguments\n",
        "from datasets import Dataset\n",
        "import torch\n",
        "\n",
        "# Create a dataset\n",
        "df_small = df_train.sample(n=2000, random_state=42).reset_index(drop=True)\n",
        "df_nlp = df_small[['Cleaned_Text', 'satisfaction']].rename(columns={'Cleaned_Text': 'text', 'satisfaction': 'label'})\n",
        "dataset = Dataset.from_pandas(df_nlp)"
      ]
    },
    {
      "cell_type": "code",
      "execution_count": 20,
      "id": "e78f0138",
      "metadata": {
        "id": "e78f0138",
        "outputId": "f4585c9a-e7e2-44a8-8086-9f51f339bbb7",
        "colab": {
          "base_uri": "https://localhost:8080/",
          "height": 49,
          "referenced_widgets": [
            "86be2219aab440af870cc55c11998808",
            "12027c8b03ed430a9b3f3c097a3d9d03",
            "158c676d2ff44745a913f595cc0f44d7",
            "3ad7d74151bc4629a4ccf18f3efd011d",
            "8fb607156a9d424fbac6ef93f4439eab",
            "7f0e1aec5346489db42d04905a888c30",
            "7efaf2e711f14cf9bad0899f164bfd99",
            "5e064665445d4b4e8aacda4109b6ac87",
            "c3d471b7fdc742588b7e50fb7b234f7f",
            "e0096579c18e4847a9def83373a33a2a",
            "7f3c2812e80c4398b1cb0a082923fff4"
          ]
        }
      },
      "outputs": [
        {
          "output_type": "display_data",
          "data": {
            "text/plain": [
              "Map:   0%|          | 0/2000 [00:00<?, ? examples/s]"
            ],
            "application/vnd.jupyter.widget-view+json": {
              "version_major": 2,
              "version_minor": 0,
              "model_id": "86be2219aab440af870cc55c11998808"
            }
          },
          "metadata": {}
        }
      ],
      "source": [
        "# Tokenize\n",
        "tokenizer = DistilBertTokenizer.from_pretrained('distilbert-base-uncased')\n",
        "\n",
        "def tokenize(batch):\n",
        "    return tokenizer(batch['text'], padding='max_length', truncation=True)\n",
        "dataset = dataset.map(tokenize, batched=True)\n",
        "dataset.set_format(type='torch', columns=['input_ids', 'attention_mask', 'label'])"
      ]
    },
    {
      "cell_type": "code",
      "execution_count": null,
      "id": "9966cc70",
      "metadata": {
        "id": "9966cc70",
        "outputId": "1e7edb48-71c2-485d-c7eb-14969d2d2283",
        "colab": {
          "base_uri": "https://localhost:8080/",
          "height": 390
        }
      },
      "outputs": [
        {
          "output_type": "stream",
          "name": "stderr",
          "text": [
            "Some weights of DistilBertForSequenceClassification were not initialized from the model checkpoint at distilbert-base-uncased and are newly initialized: ['classifier.bias', 'classifier.weight', 'pre_classifier.bias', 'pre_classifier.weight']\n",
            "You should probably TRAIN this model on a down-stream task to be able to use it for predictions and inference.\n",
            "\u001b[34m\u001b[1mwandb\u001b[0m: \u001b[33mWARNING\u001b[0m The `run_name` is currently set to the same value as `TrainingArguments.output_dir`. If this was not intended, please specify a different run name by setting the `TrainingArguments.run_name` parameter.\n"
          ]
        },
        {
          "output_type": "display_data",
          "data": {
            "text/plain": [
              "<IPython.core.display.Javascript object>"
            ],
            "application/javascript": [
              "\n",
              "        window._wandbApiKey = new Promise((resolve, reject) => {\n",
              "            function loadScript(url) {\n",
              "            return new Promise(function(resolve, reject) {\n",
              "                let newScript = document.createElement(\"script\");\n",
              "                newScript.onerror = reject;\n",
              "                newScript.onload = resolve;\n",
              "                document.body.appendChild(newScript);\n",
              "                newScript.src = url;\n",
              "            });\n",
              "            }\n",
              "            loadScript(\"https://cdn.jsdelivr.net/npm/postmate/build/postmate.min.js\").then(() => {\n",
              "            const iframe = document.createElement('iframe')\n",
              "            iframe.style.cssText = \"width:0;height:0;border:none\"\n",
              "            document.body.appendChild(iframe)\n",
              "            const handshake = new Postmate({\n",
              "                container: iframe,\n",
              "                url: 'https://wandb.ai/authorize'\n",
              "            });\n",
              "            const timeout = setTimeout(() => reject(\"Couldn't auto authenticate\"), 5000)\n",
              "            handshake.then(function(child) {\n",
              "                child.on('authorize', data => {\n",
              "                    clearTimeout(timeout)\n",
              "                    resolve(data)\n",
              "                });\n",
              "            });\n",
              "            })\n",
              "        });\n",
              "    "
            ]
          },
          "metadata": {}
        },
        {
          "output_type": "stream",
          "name": "stderr",
          "text": [
            "\u001b[34m\u001b[1mwandb\u001b[0m: Logging into wandb.ai. (Learn how to deploy a W&B server locally: https://wandb.me/wandb-server)\n",
            "\u001b[34m\u001b[1mwandb\u001b[0m: You can find your API key in your browser here: https://wandb.ai/authorize?ref=models\n",
            "wandb: Paste an API key from your profile and hit enter:"
          ]
        },
        {
          "name": "stdout",
          "output_type": "stream",
          "text": [
            " ··········\n"
          ]
        },
        {
          "output_type": "stream",
          "name": "stderr",
          "text": [
            "\u001b[34m\u001b[1mwandb\u001b[0m: \u001b[33mWARNING\u001b[0m If you're specifying your api key in code, ensure this code is not shared publicly.\n",
            "\u001b[34m\u001b[1mwandb\u001b[0m: \u001b[33mWARNING\u001b[0m Consider setting the WANDB_API_KEY environment variable, or running `wandb login` from the command line.\n",
            "\u001b[34m\u001b[1mwandb\u001b[0m: No netrc file found, creating one.\n",
            "\u001b[34m\u001b[1mwandb\u001b[0m: Appending key for api.wandb.ai to your netrc file: /root/.netrc\n",
            "\u001b[34m\u001b[1mwandb\u001b[0m: Currently logged in as: \u001b[33mdewapuraka\u001b[0m (\u001b[33mdewapuraka-university-of-ruhuna\u001b[0m) to \u001b[32mhttps://api.wandb.ai\u001b[0m. Use \u001b[1m`wandb login --relogin`\u001b[0m to force relogin\n"
          ]
        },
        {
          "output_type": "display_data",
          "data": {
            "text/plain": [
              "<IPython.core.display.HTML object>"
            ],
            "text/html": [
              "Tracking run with wandb version 0.21.0"
            ]
          },
          "metadata": {}
        },
        {
          "output_type": "display_data",
          "data": {
            "text/plain": [
              "<IPython.core.display.HTML object>"
            ],
            "text/html": [
              "Run data is saved locally in <code>/content/wandb/run-20250803_165331-2sgese66</code>"
            ]
          },
          "metadata": {}
        },
        {
          "output_type": "display_data",
          "data": {
            "text/plain": [
              "<IPython.core.display.HTML object>"
            ],
            "text/html": [
              "Syncing run <strong><a href='https://wandb.ai/dewapuraka-university-of-ruhuna/huggingface/runs/2sgese66' target=\"_blank\">./results</a></strong> to <a href='https://wandb.ai/dewapuraka-university-of-ruhuna/huggingface' target=\"_blank\">Weights & Biases</a> (<a href='https://wandb.me/developer-guide' target=\"_blank\">docs</a>)<br>"
            ]
          },
          "metadata": {}
        },
        {
          "output_type": "display_data",
          "data": {
            "text/plain": [
              "<IPython.core.display.HTML object>"
            ],
            "text/html": [
              " View project at <a href='https://wandb.ai/dewapuraka-university-of-ruhuna/huggingface' target=\"_blank\">https://wandb.ai/dewapuraka-university-of-ruhuna/huggingface</a>"
            ]
          },
          "metadata": {}
        },
        {
          "output_type": "display_data",
          "data": {
            "text/plain": [
              "<IPython.core.display.HTML object>"
            ],
            "text/html": [
              " View run at <a href='https://wandb.ai/dewapuraka-university-of-ruhuna/huggingface/runs/2sgese66' target=\"_blank\">https://wandb.ai/dewapuraka-university-of-ruhuna/huggingface/runs/2sgese66</a>"
            ]
          },
          "metadata": {}
        },
        {
          "output_type": "display_data",
          "data": {
            "text/plain": [
              "<IPython.core.display.HTML object>"
            ],
            "text/html": [
              "\n",
              "    <div>\n",
              "      \n",
              "      <progress value='21' max='500' style='width:300px; height:20px; vertical-align: middle;'></progress>\n",
              "      [ 21/500 04:18 < 1:48:29, 0.07 it/s, Epoch 0.04/1]\n",
              "    </div>\n",
              "    <table border=\"1\" class=\"dataframe\">\n",
              "  <thead>\n",
              " <tr style=\"text-align: left;\">\n",
              "      <th>Step</th>\n",
              "      <th>Training Loss</th>\n",
              "    </tr>\n",
              "  </thead>\n",
              "  <tbody>\n",
              "  </tbody>\n",
              "</table><p>"
            ]
          },
          "metadata": {}
        }
      ],
      "source": [
        "# Train the BERT model\n",
        "model = DistilBertForSequenceClassification.from_pretrained(\"distilbert-base-uncased\", num_labels=2)\n",
        "\n",
        "training_args = TrainingArguments(\n",
        "    output_dir=\"./results\",\n",
        "    num_train_epochs=1,\n",
        "    per_device_train_batch_size=4,\n",
        "    warmup_steps=500,\n",
        "    weight_decay=0.01,\n",
        "    logging_dir=\"./logs\",\n",
        ")\n",
        "\n",
        "trainer = Trainer(\n",
        "    model=model,\n",
        "    args=training_args,\n",
        "    train_dataset=dataset\n",
        ")\n",
        "\n",
        "trainer.train()"
      ]
    },
    {
      "cell_type": "code",
      "source": [
        "matrices = trainer.evaluate(eval_dataset=dataset)\n",
        "print(matrices)"
      ],
      "metadata": {
        "id": "ODg-3cydlqye"
      },
      "id": "ODg-3cydlqye",
      "execution_count": null,
      "outputs": []
    },
    {
      "cell_type": "code",
      "source": [
        "# Save the models\n",
        "\n",
        "trainer.save_model(\"./saved_distilbert_model\")\n",
        "tokenizer.save_pretrained(\"./saved_distilbert_model\")"
      ],
      "metadata": {
        "colab": {
          "base_uri": "https://localhost:8080/"
        },
        "id": "D-dUgycUwovj",
        "outputId": "901cf61f-7064-4f9c-9489-47d35e69688b"
      },
      "id": "D-dUgycUwovj",
      "execution_count": null,
      "outputs": [
        {
          "output_type": "execute_result",
          "data": {
            "text/plain": [
              "('./saved_distilbert_model/tokenizer_config.json',\n",
              " './saved_distilbert_model/special_tokens_map.json',\n",
              " './saved_distilbert_model/vocab.txt',\n",
              " './saved_distilbert_model/added_tokens.json')"
            ]
          },
          "metadata": {},
          "execution_count": 29
        }
      ]
    },
    {
      "cell_type": "code",
      "source": [
        "# To reload the saved model\n",
        "\n",
        "from transformers import DistilBertTokenizer, DistilBertForSequenceClassification\n",
        "model = DistilBertForSequenceClassification.from_pretrained(\"./saved_distilbert_model\")\n",
        "tokenizer = DistilBertTokenizer.from_pretrained(\"./saved_distilbert_model\")"
      ],
      "metadata": {
        "id": "KLnpcEGQwv7z",
        "colab": {
          "base_uri": "https://localhost:8080/",
          "height": 477
        },
        "outputId": "dd30e693-3fab-48a2-ff46-ca1043a0f697"
      },
      "id": "KLnpcEGQwv7z",
      "execution_count": 17,
      "outputs": [
        {
          "output_type": "error",
          "ename": "HFValidationError",
          "evalue": "Repo id must use alphanumeric chars or '-', '_', '.', '--' and '..' are forbidden, '-' and '.' cannot start or end the name, max length is 96: './saved_distilbert_model'.",
          "traceback": [
            "\u001b[0;31m---------------------------------------------------------------------------\u001b[0m",
            "\u001b[0;31mHFValidationError\u001b[0m                         Traceback (most recent call last)",
            "\u001b[0;32m/usr/local/lib/python3.11/dist-packages/transformers/utils/hub.py\u001b[0m in \u001b[0;36mcached_files\u001b[0;34m(path_or_repo_id, filenames, cache_dir, force_download, resume_download, proxies, token, revision, local_files_only, subfolder, repo_type, user_agent, _raise_exceptions_for_gated_repo, _raise_exceptions_for_missing_entries, _raise_exceptions_for_connection_errors, _commit_hash, **deprecated_kwargs)\u001b[0m\n\u001b[1;32m    475\u001b[0m             \u001b[0;31m# This is slightly better for only 1 file\u001b[0m\u001b[0;34m\u001b[0m\u001b[0;34m\u001b[0m\u001b[0m\n\u001b[0;32m--> 476\u001b[0;31m             hf_hub_download(\n\u001b[0m\u001b[1;32m    477\u001b[0m                 \u001b[0mpath_or_repo_id\u001b[0m\u001b[0;34m,\u001b[0m\u001b[0;34m\u001b[0m\u001b[0;34m\u001b[0m\u001b[0m\n",
            "\u001b[0;32m/usr/local/lib/python3.11/dist-packages/huggingface_hub/utils/_validators.py\u001b[0m in \u001b[0;36m_inner_fn\u001b[0;34m(*args, **kwargs)\u001b[0m\n\u001b[1;32m    105\u001b[0m             \u001b[0;32mif\u001b[0m \u001b[0marg_name\u001b[0m \u001b[0;32min\u001b[0m \u001b[0;34m[\u001b[0m\u001b[0;34m\"repo_id\"\u001b[0m\u001b[0;34m,\u001b[0m \u001b[0;34m\"from_id\"\u001b[0m\u001b[0;34m,\u001b[0m \u001b[0;34m\"to_id\"\u001b[0m\u001b[0;34m]\u001b[0m\u001b[0;34m:\u001b[0m\u001b[0;34m\u001b[0m\u001b[0;34m\u001b[0m\u001b[0m\n\u001b[0;32m--> 106\u001b[0;31m                 \u001b[0mvalidate_repo_id\u001b[0m\u001b[0;34m(\u001b[0m\u001b[0marg_value\u001b[0m\u001b[0;34m)\u001b[0m\u001b[0;34m\u001b[0m\u001b[0;34m\u001b[0m\u001b[0m\n\u001b[0m\u001b[1;32m    107\u001b[0m \u001b[0;34m\u001b[0m\u001b[0m\n",
            "\u001b[0;32m/usr/local/lib/python3.11/dist-packages/huggingface_hub/utils/_validators.py\u001b[0m in \u001b[0;36mvalidate_repo_id\u001b[0;34m(repo_id)\u001b[0m\n\u001b[1;32m    159\u001b[0m     \u001b[0;32mif\u001b[0m \u001b[0;32mnot\u001b[0m \u001b[0mREPO_ID_REGEX\u001b[0m\u001b[0;34m.\u001b[0m\u001b[0mmatch\u001b[0m\u001b[0;34m(\u001b[0m\u001b[0mrepo_id\u001b[0m\u001b[0;34m)\u001b[0m\u001b[0;34m:\u001b[0m\u001b[0;34m\u001b[0m\u001b[0;34m\u001b[0m\u001b[0m\n\u001b[0;32m--> 160\u001b[0;31m         raise HFValidationError(\n\u001b[0m\u001b[1;32m    161\u001b[0m             \u001b[0;34m\"Repo id must use alphanumeric chars or '-', '_', '.', '--' and '..' are\"\u001b[0m\u001b[0;34m\u001b[0m\u001b[0;34m\u001b[0m\u001b[0m\n",
            "\u001b[0;31mHFValidationError\u001b[0m: Repo id must use alphanumeric chars or '-', '_', '.', '--' and '..' are forbidden, '-' and '.' cannot start or end the name, max length is 96: './saved_distilbert_model'.",
            "\nDuring handling of the above exception, another exception occurred:\n",
            "\u001b[0;31mHFValidationError\u001b[0m                         Traceback (most recent call last)",
            "\u001b[0;32m/tmp/ipython-input-3999955362.py\u001b[0m in \u001b[0;36m<cell line: 0>\u001b[0;34m()\u001b[0m\n\u001b[1;32m      2\u001b[0m \u001b[0;34m\u001b[0m\u001b[0m\n\u001b[1;32m      3\u001b[0m \u001b[0;32mfrom\u001b[0m \u001b[0mtransformers\u001b[0m \u001b[0;32mimport\u001b[0m \u001b[0mDistilBertTokenizer\u001b[0m\u001b[0;34m,\u001b[0m \u001b[0mDistilBertForSequenceClassification\u001b[0m\u001b[0;34m\u001b[0m\u001b[0;34m\u001b[0m\u001b[0m\n\u001b[0;32m----> 4\u001b[0;31m \u001b[0mmodel\u001b[0m \u001b[0;34m=\u001b[0m \u001b[0mDistilBertForSequenceClassification\u001b[0m\u001b[0;34m.\u001b[0m\u001b[0mfrom_pretrained\u001b[0m\u001b[0;34m(\u001b[0m\u001b[0;34m\"./saved_distilbert_model\"\u001b[0m\u001b[0;34m)\u001b[0m\u001b[0;34m\u001b[0m\u001b[0;34m\u001b[0m\u001b[0m\n\u001b[0m\u001b[1;32m      5\u001b[0m \u001b[0mtokenizer\u001b[0m \u001b[0;34m=\u001b[0m \u001b[0mDistilBertTokenizer\u001b[0m\u001b[0;34m.\u001b[0m\u001b[0mfrom_pretrained\u001b[0m\u001b[0;34m(\u001b[0m\u001b[0;34m\"./saved_distilbert_model\"\u001b[0m\u001b[0;34m)\u001b[0m\u001b[0;34m\u001b[0m\u001b[0;34m\u001b[0m\u001b[0m\n",
            "\u001b[0;32m/usr/local/lib/python3.11/dist-packages/transformers/modeling_utils.py\u001b[0m in \u001b[0;36m_wrapper\u001b[0;34m(*args, **kwargs)\u001b[0m\n\u001b[1;32m    313\u001b[0m         \u001b[0mold_dtype\u001b[0m \u001b[0;34m=\u001b[0m \u001b[0mtorch\u001b[0m\u001b[0;34m.\u001b[0m\u001b[0mget_default_dtype\u001b[0m\u001b[0;34m(\u001b[0m\u001b[0;34m)\u001b[0m\u001b[0;34m\u001b[0m\u001b[0;34m\u001b[0m\u001b[0m\n\u001b[1;32m    314\u001b[0m         \u001b[0;32mtry\u001b[0m\u001b[0;34m:\u001b[0m\u001b[0;34m\u001b[0m\u001b[0;34m\u001b[0m\u001b[0m\n\u001b[0;32m--> 315\u001b[0;31m             \u001b[0;32mreturn\u001b[0m \u001b[0mfunc\u001b[0m\u001b[0;34m(\u001b[0m\u001b[0;34m*\u001b[0m\u001b[0margs\u001b[0m\u001b[0;34m,\u001b[0m \u001b[0;34m**\u001b[0m\u001b[0mkwargs\u001b[0m\u001b[0;34m)\u001b[0m\u001b[0;34m\u001b[0m\u001b[0;34m\u001b[0m\u001b[0m\n\u001b[0m\u001b[1;32m    316\u001b[0m         \u001b[0;32mfinally\u001b[0m\u001b[0;34m:\u001b[0m\u001b[0;34m\u001b[0m\u001b[0;34m\u001b[0m\u001b[0m\n\u001b[1;32m    317\u001b[0m             \u001b[0mtorch\u001b[0m\u001b[0;34m.\u001b[0m\u001b[0mset_default_dtype\u001b[0m\u001b[0;34m(\u001b[0m\u001b[0mold_dtype\u001b[0m\u001b[0;34m)\u001b[0m\u001b[0;34m\u001b[0m\u001b[0;34m\u001b[0m\u001b[0m\n",
            "\u001b[0;32m/usr/local/lib/python3.11/dist-packages/transformers/modeling_utils.py\u001b[0m in \u001b[0;36mfrom_pretrained\u001b[0;34m(cls, pretrained_model_name_or_path, config, cache_dir, ignore_mismatched_sizes, force_download, local_files_only, token, revision, use_safetensors, weights_only, *model_args, **kwargs)\u001b[0m\n\u001b[1;32m   4649\u001b[0m             \u001b[0;32mif\u001b[0m \u001b[0;32mnot\u001b[0m \u001b[0misinstance\u001b[0m\u001b[0;34m(\u001b[0m\u001b[0mconfig\u001b[0m\u001b[0;34m,\u001b[0m \u001b[0mPretrainedConfig\u001b[0m\u001b[0;34m)\u001b[0m\u001b[0;34m:\u001b[0m\u001b[0;34m\u001b[0m\u001b[0;34m\u001b[0m\u001b[0m\n\u001b[1;32m   4650\u001b[0m                 \u001b[0;31m# We make a call to the config file first (which may be absent) to get the commit hash as soon as possible\u001b[0m\u001b[0;34m\u001b[0m\u001b[0;34m\u001b[0m\u001b[0m\n\u001b[0;32m-> 4651\u001b[0;31m                 resolved_config_file = cached_file(\n\u001b[0m\u001b[1;32m   4652\u001b[0m                     \u001b[0mpretrained_model_name_or_path\u001b[0m\u001b[0;34m,\u001b[0m\u001b[0;34m\u001b[0m\u001b[0;34m\u001b[0m\u001b[0m\n\u001b[1;32m   4653\u001b[0m                     \u001b[0mCONFIG_NAME\u001b[0m\u001b[0;34m,\u001b[0m\u001b[0;34m\u001b[0m\u001b[0;34m\u001b[0m\u001b[0m\n",
            "\u001b[0;32m/usr/local/lib/python3.11/dist-packages/transformers/utils/hub.py\u001b[0m in \u001b[0;36mcached_file\u001b[0;34m(path_or_repo_id, filename, **kwargs)\u001b[0m\n\u001b[1;32m    316\u001b[0m     \u001b[0;31m`\u001b[0m\u001b[0;31m`\u001b[0m\u001b[0;31m`\u001b[0m\u001b[0;34m\u001b[0m\u001b[0;34m\u001b[0m\u001b[0m\n\u001b[1;32m    317\u001b[0m     \"\"\"\n\u001b[0;32m--> 318\u001b[0;31m     \u001b[0mfile\u001b[0m \u001b[0;34m=\u001b[0m \u001b[0mcached_files\u001b[0m\u001b[0;34m(\u001b[0m\u001b[0mpath_or_repo_id\u001b[0m\u001b[0;34m=\u001b[0m\u001b[0mpath_or_repo_id\u001b[0m\u001b[0;34m,\u001b[0m \u001b[0mfilenames\u001b[0m\u001b[0;34m=\u001b[0m\u001b[0;34m[\u001b[0m\u001b[0mfilename\u001b[0m\u001b[0;34m]\u001b[0m\u001b[0;34m,\u001b[0m \u001b[0;34m**\u001b[0m\u001b[0mkwargs\u001b[0m\u001b[0;34m)\u001b[0m\u001b[0;34m\u001b[0m\u001b[0;34m\u001b[0m\u001b[0m\n\u001b[0m\u001b[1;32m    319\u001b[0m     \u001b[0mfile\u001b[0m \u001b[0;34m=\u001b[0m \u001b[0mfile\u001b[0m\u001b[0;34m[\u001b[0m\u001b[0;36m0\u001b[0m\u001b[0;34m]\u001b[0m \u001b[0;32mif\u001b[0m \u001b[0mfile\u001b[0m \u001b[0;32mis\u001b[0m \u001b[0;32mnot\u001b[0m \u001b[0;32mNone\u001b[0m \u001b[0;32melse\u001b[0m \u001b[0mfile\u001b[0m\u001b[0;34m\u001b[0m\u001b[0;34m\u001b[0m\u001b[0m\n\u001b[1;32m    320\u001b[0m     \u001b[0;32mreturn\u001b[0m \u001b[0mfile\u001b[0m\u001b[0;34m\u001b[0m\u001b[0;34m\u001b[0m\u001b[0m\n",
            "\u001b[0;32m/usr/local/lib/python3.11/dist-packages/transformers/utils/hub.py\u001b[0m in \u001b[0;36mcached_files\u001b[0;34m(path_or_repo_id, filenames, cache_dir, force_download, resume_download, proxies, token, revision, local_files_only, subfolder, repo_type, user_agent, _raise_exceptions_for_gated_repo, _raise_exceptions_for_missing_entries, _raise_exceptions_for_connection_errors, _commit_hash, **deprecated_kwargs)\u001b[0m\n\u001b[1;32m    526\u001b[0m \u001b[0;34m\u001b[0m\u001b[0m\n\u001b[1;32m    527\u001b[0m         \u001b[0;31m# Now we try to recover if we can find all files correctly in the cache\u001b[0m\u001b[0;34m\u001b[0m\u001b[0;34m\u001b[0m\u001b[0m\n\u001b[0;32m--> 528\u001b[0;31m         resolved_files = [\n\u001b[0m\u001b[1;32m    529\u001b[0m             \u001b[0m_get_cache_file_to_return\u001b[0m\u001b[0;34m(\u001b[0m\u001b[0mpath_or_repo_id\u001b[0m\u001b[0;34m,\u001b[0m \u001b[0mfilename\u001b[0m\u001b[0;34m,\u001b[0m \u001b[0mcache_dir\u001b[0m\u001b[0;34m,\u001b[0m \u001b[0mrevision\u001b[0m\u001b[0;34m,\u001b[0m \u001b[0mrepo_type\u001b[0m\u001b[0;34m)\u001b[0m\u001b[0;34m\u001b[0m\u001b[0;34m\u001b[0m\u001b[0m\n\u001b[1;32m    530\u001b[0m             \u001b[0;32mfor\u001b[0m \u001b[0mfilename\u001b[0m \u001b[0;32min\u001b[0m \u001b[0mfull_filenames\u001b[0m\u001b[0;34m\u001b[0m\u001b[0;34m\u001b[0m\u001b[0m\n",
            "\u001b[0;32m/usr/local/lib/python3.11/dist-packages/transformers/utils/hub.py\u001b[0m in \u001b[0;36m<listcomp>\u001b[0;34m(.0)\u001b[0m\n\u001b[1;32m    527\u001b[0m         \u001b[0;31m# Now we try to recover if we can find all files correctly in the cache\u001b[0m\u001b[0;34m\u001b[0m\u001b[0;34m\u001b[0m\u001b[0m\n\u001b[1;32m    528\u001b[0m         resolved_files = [\n\u001b[0;32m--> 529\u001b[0;31m             \u001b[0m_get_cache_file_to_return\u001b[0m\u001b[0;34m(\u001b[0m\u001b[0mpath_or_repo_id\u001b[0m\u001b[0;34m,\u001b[0m \u001b[0mfilename\u001b[0m\u001b[0;34m,\u001b[0m \u001b[0mcache_dir\u001b[0m\u001b[0;34m,\u001b[0m \u001b[0mrevision\u001b[0m\u001b[0;34m,\u001b[0m \u001b[0mrepo_type\u001b[0m\u001b[0;34m)\u001b[0m\u001b[0;34m\u001b[0m\u001b[0;34m\u001b[0m\u001b[0m\n\u001b[0m\u001b[1;32m    530\u001b[0m             \u001b[0;32mfor\u001b[0m \u001b[0mfilename\u001b[0m \u001b[0;32min\u001b[0m \u001b[0mfull_filenames\u001b[0m\u001b[0;34m\u001b[0m\u001b[0;34m\u001b[0m\u001b[0m\n\u001b[1;32m    531\u001b[0m         ]\n",
            "\u001b[0;32m/usr/local/lib/python3.11/dist-packages/transformers/utils/hub.py\u001b[0m in \u001b[0;36m_get_cache_file_to_return\u001b[0;34m(path_or_repo_id, full_filename, cache_dir, revision, repo_type)\u001b[0m\n\u001b[1;32m    142\u001b[0m ):\n\u001b[1;32m    143\u001b[0m     \u001b[0;31m# We try to see if we have a cached version (not up to date):\u001b[0m\u001b[0;34m\u001b[0m\u001b[0;34m\u001b[0m\u001b[0m\n\u001b[0;32m--> 144\u001b[0;31m     resolved_file = try_to_load_from_cache(\n\u001b[0m\u001b[1;32m    145\u001b[0m         \u001b[0mpath_or_repo_id\u001b[0m\u001b[0;34m,\u001b[0m \u001b[0mfull_filename\u001b[0m\u001b[0;34m,\u001b[0m \u001b[0mcache_dir\u001b[0m\u001b[0;34m=\u001b[0m\u001b[0mcache_dir\u001b[0m\u001b[0;34m,\u001b[0m \u001b[0mrevision\u001b[0m\u001b[0;34m=\u001b[0m\u001b[0mrevision\u001b[0m\u001b[0;34m,\u001b[0m \u001b[0mrepo_type\u001b[0m\u001b[0;34m=\u001b[0m\u001b[0mrepo_type\u001b[0m\u001b[0;34m\u001b[0m\u001b[0;34m\u001b[0m\u001b[0m\n\u001b[1;32m    146\u001b[0m     )\n",
            "\u001b[0;32m/usr/local/lib/python3.11/dist-packages/huggingface_hub/utils/_validators.py\u001b[0m in \u001b[0;36m_inner_fn\u001b[0;34m(*args, **kwargs)\u001b[0m\n\u001b[1;32m    104\u001b[0m         ):\n\u001b[1;32m    105\u001b[0m             \u001b[0;32mif\u001b[0m \u001b[0marg_name\u001b[0m \u001b[0;32min\u001b[0m \u001b[0;34m[\u001b[0m\u001b[0;34m\"repo_id\"\u001b[0m\u001b[0;34m,\u001b[0m \u001b[0;34m\"from_id\"\u001b[0m\u001b[0;34m,\u001b[0m \u001b[0;34m\"to_id\"\u001b[0m\u001b[0;34m]\u001b[0m\u001b[0;34m:\u001b[0m\u001b[0;34m\u001b[0m\u001b[0;34m\u001b[0m\u001b[0m\n\u001b[0;32m--> 106\u001b[0;31m                 \u001b[0mvalidate_repo_id\u001b[0m\u001b[0;34m(\u001b[0m\u001b[0marg_value\u001b[0m\u001b[0;34m)\u001b[0m\u001b[0;34m\u001b[0m\u001b[0;34m\u001b[0m\u001b[0m\n\u001b[0m\u001b[1;32m    107\u001b[0m \u001b[0;34m\u001b[0m\u001b[0m\n\u001b[1;32m    108\u001b[0m             \u001b[0;32melif\u001b[0m \u001b[0marg_name\u001b[0m \u001b[0;34m==\u001b[0m \u001b[0;34m\"token\"\u001b[0m \u001b[0;32mand\u001b[0m \u001b[0marg_value\u001b[0m \u001b[0;32mis\u001b[0m \u001b[0;32mnot\u001b[0m \u001b[0;32mNone\u001b[0m\u001b[0;34m:\u001b[0m\u001b[0;34m\u001b[0m\u001b[0;34m\u001b[0m\u001b[0m\n",
            "\u001b[0;32m/usr/local/lib/python3.11/dist-packages/huggingface_hub/utils/_validators.py\u001b[0m in \u001b[0;36mvalidate_repo_id\u001b[0;34m(repo_id)\u001b[0m\n\u001b[1;32m    158\u001b[0m \u001b[0;34m\u001b[0m\u001b[0m\n\u001b[1;32m    159\u001b[0m     \u001b[0;32mif\u001b[0m \u001b[0;32mnot\u001b[0m \u001b[0mREPO_ID_REGEX\u001b[0m\u001b[0;34m.\u001b[0m\u001b[0mmatch\u001b[0m\u001b[0;34m(\u001b[0m\u001b[0mrepo_id\u001b[0m\u001b[0;34m)\u001b[0m\u001b[0;34m:\u001b[0m\u001b[0;34m\u001b[0m\u001b[0;34m\u001b[0m\u001b[0m\n\u001b[0;32m--> 160\u001b[0;31m         raise HFValidationError(\n\u001b[0m\u001b[1;32m    161\u001b[0m             \u001b[0;34m\"Repo id must use alphanumeric chars or '-', '_', '.', '--' and '..' are\"\u001b[0m\u001b[0;34m\u001b[0m\u001b[0;34m\u001b[0m\u001b[0m\n\u001b[1;32m    162\u001b[0m             \u001b[0;34m\" forbidden, '-' and '.' cannot start or end the name, max length is 96:\"\u001b[0m\u001b[0;34m\u001b[0m\u001b[0;34m\u001b[0m\u001b[0m\n",
            "\u001b[0;31mHFValidationError\u001b[0m: Repo id must use alphanumeric chars or '-', '_', '.', '--' and '..' are forbidden, '-' and '.' cannot start or end the name, max length is 96: './saved_distilbert_model'."
          ]
        }
      ]
    },
    {
      "cell_type": "code",
      "source": [
        "# Autoencoder implementation\n",
        "\n",
        "from keras.models import Sequential\n",
        "from keras.layers import Dense\n",
        "\n",
        "# BUild the autoencoder\n",
        "autoencoder = Sequential([\n",
        "    Dense(128, activation='relu', input_shape=(X_text.shape[1],)),\n",
        "    Dense(64, activation='relu'),\n",
        "    Dense(128, activation='relu'),\n",
        "    Dense(X_text.shape[1], activation='sigmoid')\n",
        "])\n",
        "\n",
        "# Compile the model\n",
        "\n",
        "autoencoder.compile(optimizer='adam', loss='binary_crossentropy')\n",
        "\n",
        "# Train the autoencoder\n",
        "autoencoder.fit(X_text.toarray(), X_text.toarray(), epochs=5, batch_size=64)\n"
      ],
      "metadata": {
        "colab": {
          "base_uri": "https://localhost:8080/"
        },
        "id": "aUnkrmGbyV1F",
        "outputId": "c1fc3c79-2be1-4c2c-c3fc-63eeb0b81c2b"
      },
      "id": "aUnkrmGbyV1F",
      "execution_count": null,
      "outputs": [
        {
          "output_type": "stream",
          "name": "stdout",
          "text": [
            "Epoch 1/5\n",
            "\u001b[1m1619/1619\u001b[0m \u001b[32m━━━━━━━━━━━━━━━━━━━━\u001b[0m\u001b[37m\u001b[0m \u001b[1m7s\u001b[0m 3ms/step - loss: 0.2575\n",
            "Epoch 2/5\n",
            "\u001b[1m1619/1619\u001b[0m \u001b[32m━━━━━━━━━━━━━━━━━━━━\u001b[0m\u001b[37m\u001b[0m \u001b[1m6s\u001b[0m 4ms/step - loss: 0.1955\n",
            "Epoch 3/5\n",
            "\u001b[1m1619/1619\u001b[0m \u001b[32m━━━━━━━━━━━━━━━━━━━━\u001b[0m\u001b[37m\u001b[0m \u001b[1m5s\u001b[0m 3ms/step - loss: 0.1951\n",
            "Epoch 4/5\n",
            "\u001b[1m1619/1619\u001b[0m \u001b[32m━━━━━━━━━━━━━━━━━━━━\u001b[0m\u001b[37m\u001b[0m \u001b[1m5s\u001b[0m 3ms/step - loss: 0.1950\n",
            "Epoch 5/5\n",
            "\u001b[1m1619/1619\u001b[0m \u001b[32m━━━━━━━━━━━━━━━━━━━━\u001b[0m\u001b[37m\u001b[0m \u001b[1m7s\u001b[0m 4ms/step - loss: 0.1949\n"
          ]
        },
        {
          "output_type": "execute_result",
          "data": {
            "text/plain": [
              "<keras.src.callbacks.history.History at 0x7f9ac26e8910>"
            ]
          },
          "metadata": {},
          "execution_count": 31
        }
      ]
    },
    {
      "cell_type": "code",
      "source": [
        "from transformers import pipeline, set_seed\n",
        "\n",
        "# Initialize text generation pipeline\n",
        "generator = pipeline(\"text-generation\", model=\"gpt2\")\n",
        "\n",
        "# Set random seed for reproducibility\n",
        "set_seed(42)\n",
        "\n",
        "# Prompt for generation\n",
        "prompt = \"The passenger was dissatisfied because\"\n",
        "\n",
        "# Generate 3 complaints with max 40 tokens\n",
        "results = generator(\n",
        "    prompt,\n",
        "    max_length=40,\n",
        "    num_return_sequences=3,\n",
        "    pad_token_id=50256,  # to avoid padding warning\n",
        "    truncation=True\n",
        ")\n",
        "\n",
        "# Display results\n",
        "for i, r in enumerate(results):\n",
        "    print(f\"Generated Complaint {i+1}: {r['generated_text']}\")"
      ],
      "metadata": {
        "colab": {
          "base_uri": "https://localhost:8080/"
        },
        "id": "shOOnwZw0MA5",
        "outputId": "8e1d985d-e59b-4005-eecb-70bb5a189c5d"
      },
      "id": "shOOnwZw0MA5",
      "execution_count": null,
      "outputs": [
        {
          "output_type": "stream",
          "name": "stderr",
          "text": [
            "Device set to use cpu\n",
            "Both `max_new_tokens` (=256) and `max_length`(=40) seem to have been set. `max_new_tokens` will take precedence. Please refer to the documentation for more information. (https://huggingface.co/docs/transformers/main/en/main_classes/text_generation)\n"
          ]
        },
        {
          "output_type": "stream",
          "name": "stdout",
          "text": [
            "Generated Complaint 1: The passenger was dissatisfied because she didn't get the job she wanted.\n",
            "\n",
            "Rochester police say that after they received an anonymous tip from a woman who said she was a woman, they asked Rochester police for help locating the woman.\n",
            "\n",
            "They took the woman to a local hospital and were able to identify her.\n",
            "\n",
            "The woman was then taken to the hospital to be checked by a doctor, and then flown to a local hospital for a psychological evaluation.\n",
            "\n",
            "The woman was charged with aggravated harassment with a weapon, and was in jail for 10 days.\n",
            "\n",
            "Rochester police say that they will be appealing the incident to the Rochester Police Department, but they are still looking for the woman.\n",
            "Generated Complaint 2: The passenger was dissatisfied because he did not see any signs of foul play.\n",
            "\n",
            "\"I was in the passenger seat when I heard four or five loud bangs and I thought, 'Oh my God, maybe he's going to explode,'\" said the passenger. \"I looked down and I saw the engine was going down.\"\n",
            "\n",
            "The passenger, who did not want to be named, said he was driving the wrong car and the passenger was angry. He said they got into an argument and, as the passenger tried to push away the engine, the passenger pulled his hand back and punched the passenger in the face.\n",
            "\n",
            "The passenger told investigators he believed the crash was a \"bomber punch,\" according to the report.\n",
            "\n",
            "Investigators said the driver had told investigators he was trying to avoid an officer's car during the altercation, but the passenger didn't believe him.\n",
            "\n",
            "The driver then tried to escape, but the officer's car was hit and the passenger was struck in the face.\n",
            "\n",
            "The passenger was transported to the hospital, where he received a minor injury to his head. He is in stable condition at the hospital and is expected to be released.\n",
            "\n",
            "Anyone with information is asked to call the Sheriff's Department's Homicide Unit at (813) 6\n",
            "Generated Complaint 3: The passenger was dissatisfied because the vehicle was not carrying a driver's license, said the station's spokeswoman, Janet R. McDonough.\n",
            "\n",
            "The driver's license holder was not available for comment, R.C. McDonough said.\n"
          ]
        }
      ]
    },
    {
      "cell_type": "code",
      "execution_count": null,
      "id": "8af36f8a",
      "metadata": {
        "id": "8af36f8a"
      },
      "outputs": [],
      "source": [
        "# Split the data into features and target\n",
        "\n",
        "X = df_train.drop(columns=['satisfaction'])\n",
        "y = df_train['satisfaction']"
      ]
    },
    {
      "cell_type": "code",
      "execution_count": null,
      "id": "6700aba9",
      "metadata": {
        "id": "6700aba9"
      },
      "outputs": [],
      "source": [
        "# Split the data into training and testing\n",
        "\n",
        "from sklearn.model_selection import train_test_split\n",
        "\n",
        "X_train, X_test, y_train, y_test = train_test_split(X, y, test_size=0.2, random_state=42)\n"
      ]
    },
    {
      "cell_type": "markdown",
      "id": "82440fa4",
      "metadata": {
        "id": "82440fa4"
      },
      "source": [
        "Model Training"
      ]
    },
    {
      "cell_type": "code",
      "execution_count": null,
      "id": "631dcb48",
      "metadata": {
        "id": "631dcb48"
      },
      "outputs": [],
      "source": [
        "from sklearn.ensemble import RandomForestClassifier\n",
        "from sklearn.metrics import classification_report"
      ]
    }
  ],
  "metadata": {
    "kernelspec": {
      "display_name": ".venv",
      "language": "python",
      "name": "python3"
    },
    "language_info": {
      "codemirror_mode": {
        "name": "ipython",
        "version": 3
      },
      "file_extension": ".py",
      "mimetype": "text/x-python",
      "name": "python",
      "nbconvert_exporter": "python",
      "pygments_lexer": "ipython3",
      "version": "3.10.0"
    },
    "colab": {
      "provenance": [],
      "include_colab_link": true
    },
    "widgets": {
      "application/vnd.jupyter.widget-state+json": {
        "86be2219aab440af870cc55c11998808": {
          "model_module": "@jupyter-widgets/controls",
          "model_name": "HBoxModel",
          "model_module_version": "1.5.0",
          "state": {
            "_dom_classes": [],
            "_model_module": "@jupyter-widgets/controls",
            "_model_module_version": "1.5.0",
            "_model_name": "HBoxModel",
            "_view_count": null,
            "_view_module": "@jupyter-widgets/controls",
            "_view_module_version": "1.5.0",
            "_view_name": "HBoxView",
            "box_style": "",
            "children": [
              "IPY_MODEL_12027c8b03ed430a9b3f3c097a3d9d03",
              "IPY_MODEL_158c676d2ff44745a913f595cc0f44d7",
              "IPY_MODEL_3ad7d74151bc4629a4ccf18f3efd011d"
            ],
            "layout": "IPY_MODEL_8fb607156a9d424fbac6ef93f4439eab"
          }
        },
        "12027c8b03ed430a9b3f3c097a3d9d03": {
          "model_module": "@jupyter-widgets/controls",
          "model_name": "HTMLModel",
          "model_module_version": "1.5.0",
          "state": {
            "_dom_classes": [],
            "_model_module": "@jupyter-widgets/controls",
            "_model_module_version": "1.5.0",
            "_model_name": "HTMLModel",
            "_view_count": null,
            "_view_module": "@jupyter-widgets/controls",
            "_view_module_version": "1.5.0",
            "_view_name": "HTMLView",
            "description": "",
            "description_tooltip": null,
            "layout": "IPY_MODEL_7f0e1aec5346489db42d04905a888c30",
            "placeholder": "​",
            "style": "IPY_MODEL_7efaf2e711f14cf9bad0899f164bfd99",
            "value": "Map: 100%"
          }
        },
        "158c676d2ff44745a913f595cc0f44d7": {
          "model_module": "@jupyter-widgets/controls",
          "model_name": "FloatProgressModel",
          "model_module_version": "1.5.0",
          "state": {
            "_dom_classes": [],
            "_model_module": "@jupyter-widgets/controls",
            "_model_module_version": "1.5.0",
            "_model_name": "FloatProgressModel",
            "_view_count": null,
            "_view_module": "@jupyter-widgets/controls",
            "_view_module_version": "1.5.0",
            "_view_name": "ProgressView",
            "bar_style": "success",
            "description": "",
            "description_tooltip": null,
            "layout": "IPY_MODEL_5e064665445d4b4e8aacda4109b6ac87",
            "max": 2000,
            "min": 0,
            "orientation": "horizontal",
            "style": "IPY_MODEL_c3d471b7fdc742588b7e50fb7b234f7f",
            "value": 2000
          }
        },
        "3ad7d74151bc4629a4ccf18f3efd011d": {
          "model_module": "@jupyter-widgets/controls",
          "model_name": "HTMLModel",
          "model_module_version": "1.5.0",
          "state": {
            "_dom_classes": [],
            "_model_module": "@jupyter-widgets/controls",
            "_model_module_version": "1.5.0",
            "_model_name": "HTMLModel",
            "_view_count": null,
            "_view_module": "@jupyter-widgets/controls",
            "_view_module_version": "1.5.0",
            "_view_name": "HTMLView",
            "description": "",
            "description_tooltip": null,
            "layout": "IPY_MODEL_e0096579c18e4847a9def83373a33a2a",
            "placeholder": "​",
            "style": "IPY_MODEL_7f3c2812e80c4398b1cb0a082923fff4",
            "value": " 2000/2000 [00:01&lt;00:00, 1122.99 examples/s]"
          }
        },
        "8fb607156a9d424fbac6ef93f4439eab": {
          "model_module": "@jupyter-widgets/base",
          "model_name": "LayoutModel",
          "model_module_version": "1.2.0",
          "state": {
            "_model_module": "@jupyter-widgets/base",
            "_model_module_version": "1.2.0",
            "_model_name": "LayoutModel",
            "_view_count": null,
            "_view_module": "@jupyter-widgets/base",
            "_view_module_version": "1.2.0",
            "_view_name": "LayoutView",
            "align_content": null,
            "align_items": null,
            "align_self": null,
            "border": null,
            "bottom": null,
            "display": null,
            "flex": null,
            "flex_flow": null,
            "grid_area": null,
            "grid_auto_columns": null,
            "grid_auto_flow": null,
            "grid_auto_rows": null,
            "grid_column": null,
            "grid_gap": null,
            "grid_row": null,
            "grid_template_areas": null,
            "grid_template_columns": null,
            "grid_template_rows": null,
            "height": null,
            "justify_content": null,
            "justify_items": null,
            "left": null,
            "margin": null,
            "max_height": null,
            "max_width": null,
            "min_height": null,
            "min_width": null,
            "object_fit": null,
            "object_position": null,
            "order": null,
            "overflow": null,
            "overflow_x": null,
            "overflow_y": null,
            "padding": null,
            "right": null,
            "top": null,
            "visibility": null,
            "width": null
          }
        },
        "7f0e1aec5346489db42d04905a888c30": {
          "model_module": "@jupyter-widgets/base",
          "model_name": "LayoutModel",
          "model_module_version": "1.2.0",
          "state": {
            "_model_module": "@jupyter-widgets/base",
            "_model_module_version": "1.2.0",
            "_model_name": "LayoutModel",
            "_view_count": null,
            "_view_module": "@jupyter-widgets/base",
            "_view_module_version": "1.2.0",
            "_view_name": "LayoutView",
            "align_content": null,
            "align_items": null,
            "align_self": null,
            "border": null,
            "bottom": null,
            "display": null,
            "flex": null,
            "flex_flow": null,
            "grid_area": null,
            "grid_auto_columns": null,
            "grid_auto_flow": null,
            "grid_auto_rows": null,
            "grid_column": null,
            "grid_gap": null,
            "grid_row": null,
            "grid_template_areas": null,
            "grid_template_columns": null,
            "grid_template_rows": null,
            "height": null,
            "justify_content": null,
            "justify_items": null,
            "left": null,
            "margin": null,
            "max_height": null,
            "max_width": null,
            "min_height": null,
            "min_width": null,
            "object_fit": null,
            "object_position": null,
            "order": null,
            "overflow": null,
            "overflow_x": null,
            "overflow_y": null,
            "padding": null,
            "right": null,
            "top": null,
            "visibility": null,
            "width": null
          }
        },
        "7efaf2e711f14cf9bad0899f164bfd99": {
          "model_module": "@jupyter-widgets/controls",
          "model_name": "DescriptionStyleModel",
          "model_module_version": "1.5.0",
          "state": {
            "_model_module": "@jupyter-widgets/controls",
            "_model_module_version": "1.5.0",
            "_model_name": "DescriptionStyleModel",
            "_view_count": null,
            "_view_module": "@jupyter-widgets/base",
            "_view_module_version": "1.2.0",
            "_view_name": "StyleView",
            "description_width": ""
          }
        },
        "5e064665445d4b4e8aacda4109b6ac87": {
          "model_module": "@jupyter-widgets/base",
          "model_name": "LayoutModel",
          "model_module_version": "1.2.0",
          "state": {
            "_model_module": "@jupyter-widgets/base",
            "_model_module_version": "1.2.0",
            "_model_name": "LayoutModel",
            "_view_count": null,
            "_view_module": "@jupyter-widgets/base",
            "_view_module_version": "1.2.0",
            "_view_name": "LayoutView",
            "align_content": null,
            "align_items": null,
            "align_self": null,
            "border": null,
            "bottom": null,
            "display": null,
            "flex": null,
            "flex_flow": null,
            "grid_area": null,
            "grid_auto_columns": null,
            "grid_auto_flow": null,
            "grid_auto_rows": null,
            "grid_column": null,
            "grid_gap": null,
            "grid_row": null,
            "grid_template_areas": null,
            "grid_template_columns": null,
            "grid_template_rows": null,
            "height": null,
            "justify_content": null,
            "justify_items": null,
            "left": null,
            "margin": null,
            "max_height": null,
            "max_width": null,
            "min_height": null,
            "min_width": null,
            "object_fit": null,
            "object_position": null,
            "order": null,
            "overflow": null,
            "overflow_x": null,
            "overflow_y": null,
            "padding": null,
            "right": null,
            "top": null,
            "visibility": null,
            "width": null
          }
        },
        "c3d471b7fdc742588b7e50fb7b234f7f": {
          "model_module": "@jupyter-widgets/controls",
          "model_name": "ProgressStyleModel",
          "model_module_version": "1.5.0",
          "state": {
            "_model_module": "@jupyter-widgets/controls",
            "_model_module_version": "1.5.0",
            "_model_name": "ProgressStyleModel",
            "_view_count": null,
            "_view_module": "@jupyter-widgets/base",
            "_view_module_version": "1.2.0",
            "_view_name": "StyleView",
            "bar_color": null,
            "description_width": ""
          }
        },
        "e0096579c18e4847a9def83373a33a2a": {
          "model_module": "@jupyter-widgets/base",
          "model_name": "LayoutModel",
          "model_module_version": "1.2.0",
          "state": {
            "_model_module": "@jupyter-widgets/base",
            "_model_module_version": "1.2.0",
            "_model_name": "LayoutModel",
            "_view_count": null,
            "_view_module": "@jupyter-widgets/base",
            "_view_module_version": "1.2.0",
            "_view_name": "LayoutView",
            "align_content": null,
            "align_items": null,
            "align_self": null,
            "border": null,
            "bottom": null,
            "display": null,
            "flex": null,
            "flex_flow": null,
            "grid_area": null,
            "grid_auto_columns": null,
            "grid_auto_flow": null,
            "grid_auto_rows": null,
            "grid_column": null,
            "grid_gap": null,
            "grid_row": null,
            "grid_template_areas": null,
            "grid_template_columns": null,
            "grid_template_rows": null,
            "height": null,
            "justify_content": null,
            "justify_items": null,
            "left": null,
            "margin": null,
            "max_height": null,
            "max_width": null,
            "min_height": null,
            "min_width": null,
            "object_fit": null,
            "object_position": null,
            "order": null,
            "overflow": null,
            "overflow_x": null,
            "overflow_y": null,
            "padding": null,
            "right": null,
            "top": null,
            "visibility": null,
            "width": null
          }
        },
        "7f3c2812e80c4398b1cb0a082923fff4": {
          "model_module": "@jupyter-widgets/controls",
          "model_name": "DescriptionStyleModel",
          "model_module_version": "1.5.0",
          "state": {
            "_model_module": "@jupyter-widgets/controls",
            "_model_module_version": "1.5.0",
            "_model_name": "DescriptionStyleModel",
            "_view_count": null,
            "_view_module": "@jupyter-widgets/base",
            "_view_module_version": "1.2.0",
            "_view_name": "StyleView",
            "description_width": ""
          }
        }
      }
    }
  },
  "nbformat": 4,
  "nbformat_minor": 5
}